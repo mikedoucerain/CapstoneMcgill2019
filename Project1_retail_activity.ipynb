{
  "nbformat": 4,
  "nbformat_minor": 0,
  "metadata": {
    "kernelspec": {
      "display_name": "Python 3",
      "language": "python",
      "name": "python3"
    },
    "language_info": {
      "codemirror_mode": {
        "name": "ipython",
        "version": 3
      },
      "file_extension": ".py",
      "mimetype": "text/x-python",
      "name": "python",
      "nbconvert_exporter": "python",
      "pygments_lexer": "ipython3",
      "version": "3.6.4"
    },
    "colab": {
      "name": "Project1_retail_activity.ipynb",
      "version": "0.3.2",
      "provenance": [],
      "collapsed_sections": [],
      "include_colab_link": true
    }
  },
  "cells": [
    {
      "cell_type": "markdown",
      "metadata": {
        "id": "view-in-github",
        "colab_type": "text"
      },
      "source": [
        "<a href=\"https://colab.research.google.com/github/mikedoucerain/CapstoneMcgill2019/blob/master/Project1_retail_activity.ipynb\" target=\"_parent\"><img src=\"https://colab.research.google.com/assets/colab-badge.svg\" alt=\"Open In Colab\"/></a>"
      ]
    },
    {
      "cell_type": "code",
      "metadata": {
        "_cell_guid": "b1076dfc-b9ad-4769-8c92-a6c4dae69d19",
        "_uuid": "8f2839f25d086af736a60e9eeb907d3b93b6e0e5",
        "id": "2fYFMsyv6QoJ",
        "colab_type": "code",
        "colab": {},
        "outputId": "ac8d33dd-0949-41b9-8e75-61551f9038f9"
      },
      "source": [
        "# This Python 3 environment comes with many helpful analytics libraries installed\n",
        "# It is defined by the kaggle/python docker image: https://github.com/kaggle/docker-python\n",
        "# For example, here's several helpful packages to load in \n",
        "\n",
        "import numpy as np # linear algebra\n",
        "import pandas as pd # data processing, CSV file I/O (e.g. pd.read_csv)\n",
        "\n",
        "# Input data files are available in the \"../input/\" directory.\n",
        "# For example, running this (by clicking run or pressing Shift+Enter) will list the files in the input directory\n",
        "\n",
        "import os\n",
        "print(os.listdir(\"../input\"))\n",
        "\n",
        "# Any results you write to the current directory are saved as output."
      ],
      "execution_count": 0,
      "outputs": [
        {
          "output_type": "stream",
          "text": [
            "['submission.csv', 'train.csv', 'test.csv']\n"
          ],
          "name": "stdout"
        }
      ]
    },
    {
      "cell_type": "code",
      "metadata": {
        "_cell_guid": "79c7e3d0-c299-4dcb-8224-4455121ee9b0",
        "_uuid": "d629ff2d2480ee46fbb7e2d37f6b5fab8052498a",
        "id": "P7t8E97Z6QoS",
        "colab_type": "code",
        "colab": {},
        "outputId": "b48579f6-2053-4b10-eb12-35a06c9bf9b3"
      },
      "source": [
        "import numpy as np\n",
        "import pandas as pd\n",
        "df = pd.read_csv('../input/train.csv', sep=\",\")\n",
        "df.head()"
      ],
      "execution_count": 0,
      "outputs": [
        {
          "output_type": "execute_result",
          "data": {
            "text/html": [
              "<div>\n",
              "<style scoped>\n",
              "    .dataframe tbody tr th:only-of-type {\n",
              "        vertical-align: middle;\n",
              "    }\n",
              "\n",
              "    .dataframe tbody tr th {\n",
              "        vertical-align: top;\n",
              "    }\n",
              "\n",
              "    .dataframe thead th {\n",
              "        text-align: right;\n",
              "    }\n",
              "</style>\n",
              "<table border=\"1\" class=\"dataframe\">\n",
              "  <thead>\n",
              "    <tr style=\"text-align: right;\">\n",
              "      <th></th>\n",
              "      <th>ID</th>\n",
              "      <th>Administrative</th>\n",
              "      <th>Administrative_Duration</th>\n",
              "      <th>Informational</th>\n",
              "      <th>Informational_Duration</th>\n",
              "      <th>ProductRelated</th>\n",
              "      <th>ProductRelated_Duration</th>\n",
              "      <th>BounceRates</th>\n",
              "      <th>ExitRates</th>\n",
              "      <th>PageValues</th>\n",
              "      <th>SpecialDay</th>\n",
              "      <th>Month</th>\n",
              "      <th>OperatingSystems</th>\n",
              "      <th>Browser</th>\n",
              "      <th>Region</th>\n",
              "      <th>TrafficType</th>\n",
              "      <th>VisitorType</th>\n",
              "      <th>Weekend</th>\n",
              "      <th>Revenue</th>\n",
              "    </tr>\n",
              "  </thead>\n",
              "  <tbody>\n",
              "    <tr>\n",
              "      <th>0</th>\n",
              "      <td>1</td>\n",
              "      <td>1</td>\n",
              "      <td>85.0</td>\n",
              "      <td>0</td>\n",
              "      <td>0.0</td>\n",
              "      <td>14</td>\n",
              "      <td>306.500000</td>\n",
              "      <td>0.000000</td>\n",
              "      <td>0.004444</td>\n",
              "      <td>0.0</td>\n",
              "      <td>0.0</td>\n",
              "      <td>Mar</td>\n",
              "      <td>2</td>\n",
              "      <td>2</td>\n",
              "      <td>3</td>\n",
              "      <td>2</td>\n",
              "      <td>Returning_Visitor</td>\n",
              "      <td>False</td>\n",
              "      <td>False</td>\n",
              "    </tr>\n",
              "    <tr>\n",
              "      <th>1</th>\n",
              "      <td>2</td>\n",
              "      <td>0</td>\n",
              "      <td>0.0</td>\n",
              "      <td>0</td>\n",
              "      <td>0.0</td>\n",
              "      <td>68</td>\n",
              "      <td>3357.340476</td>\n",
              "      <td>0.018137</td>\n",
              "      <td>0.028272</td>\n",
              "      <td>0.0</td>\n",
              "      <td>1.0</td>\n",
              "      <td>May</td>\n",
              "      <td>3</td>\n",
              "      <td>2</td>\n",
              "      <td>6</td>\n",
              "      <td>2</td>\n",
              "      <td>Returning_Visitor</td>\n",
              "      <td>True</td>\n",
              "      <td>False</td>\n",
              "    </tr>\n",
              "    <tr>\n",
              "      <th>2</th>\n",
              "      <td>3</td>\n",
              "      <td>0</td>\n",
              "      <td>0.0</td>\n",
              "      <td>0</td>\n",
              "      <td>0.0</td>\n",
              "      <td>6</td>\n",
              "      <td>56.500000</td>\n",
              "      <td>0.066667</td>\n",
              "      <td>0.116667</td>\n",
              "      <td>0.0</td>\n",
              "      <td>0.0</td>\n",
              "      <td>May</td>\n",
              "      <td>2</td>\n",
              "      <td>6</td>\n",
              "      <td>1</td>\n",
              "      <td>3</td>\n",
              "      <td>Returning_Visitor</td>\n",
              "      <td>True</td>\n",
              "      <td>False</td>\n",
              "    </tr>\n",
              "    <tr>\n",
              "      <th>3</th>\n",
              "      <td>4</td>\n",
              "      <td>0</td>\n",
              "      <td>0.0</td>\n",
              "      <td>0</td>\n",
              "      <td>0.0</td>\n",
              "      <td>28</td>\n",
              "      <td>2524.000000</td>\n",
              "      <td>0.008929</td>\n",
              "      <td>0.051786</td>\n",
              "      <td>0.0</td>\n",
              "      <td>0.0</td>\n",
              "      <td>May</td>\n",
              "      <td>2</td>\n",
              "      <td>2</td>\n",
              "      <td>1</td>\n",
              "      <td>3</td>\n",
              "      <td>Returning_Visitor</td>\n",
              "      <td>True</td>\n",
              "      <td>False</td>\n",
              "    </tr>\n",
              "    <tr>\n",
              "      <th>4</th>\n",
              "      <td>5</td>\n",
              "      <td>0</td>\n",
              "      <td>0.0</td>\n",
              "      <td>0</td>\n",
              "      <td>0.0</td>\n",
              "      <td>1</td>\n",
              "      <td>0.000000</td>\n",
              "      <td>0.200000</td>\n",
              "      <td>0.200000</td>\n",
              "      <td>0.0</td>\n",
              "      <td>0.0</td>\n",
              "      <td>Nov</td>\n",
              "      <td>2</td>\n",
              "      <td>2</td>\n",
              "      <td>6</td>\n",
              "      <td>2</td>\n",
              "      <td>Returning_Visitor</td>\n",
              "      <td>False</td>\n",
              "      <td>False</td>\n",
              "    </tr>\n",
              "  </tbody>\n",
              "</table>\n",
              "</div>"
            ],
            "text/plain": [
              "   ID  Administrative   ...     Weekend  Revenue\n",
              "0   1               1   ...       False    False\n",
              "1   2               0   ...        True    False\n",
              "2   3               0   ...        True    False\n",
              "3   4               0   ...        True    False\n",
              "4   5               0   ...       False    False\n",
              "\n",
              "[5 rows x 19 columns]"
            ]
          },
          "metadata": {
            "tags": []
          },
          "execution_count": 2
        }
      ]
    },
    {
      "cell_type": "code",
      "metadata": {
        "id": "Rlvs5Q0h6QoX",
        "colab_type": "code",
        "colab": {}
      },
      "source": [
        "df['Weekend'] = (df['Weekend'] == True).astype(int)\n",
        "#df['Revenue'] = (df['Revenue'] == True).astype(int)"
      ],
      "execution_count": 0,
      "outputs": []
    },
    {
      "cell_type": "code",
      "metadata": {
        "id": "aYyDH-0D6Qoa",
        "colab_type": "code",
        "colab": {},
        "outputId": "c16d9b9d-e3fa-4f51-e327-ff89ba9543b3"
      },
      "source": [
        "import seaborn as sns\n",
        "#sns.heatmap(df.corr(), annot=True)\n",
        "\n",
        "import matplotlib.pyplot as plt\n",
        "\n",
        "fig = plt.gcf()  # or by other means, like plt.subplots\n",
        "figsize = fig.get_size_inches()\n",
        "fig.set_size_inches(figsize * 2) \n",
        "sns.heatmap(df.corr(),annot=True)"
      ],
      "execution_count": 0,
      "outputs": [
        {
          "output_type": "execute_result",
          "data": {
            "text/plain": [
              "<matplotlib.axes._subplots.AxesSubplot at 0x7fa561dc6668>"
            ]
          },
          "metadata": {
            "tags": []
          },
          "execution_count": 4
        },
        {
          "output_type": "display_data",
          "data": {
            "image/png": "[encoded data removed]",
            "text/plain": [
              "<Figure size 864x576 with 2 Axes>"
            ]
          },
          "metadata": {
            "tags": []
          }
        }
      ]
    },
    {
      "cell_type": "code",
      "metadata": {
        "id": "B3e29oZe6Qod",
        "colab_type": "code",
        "colab": {},
        "outputId": "a9988c03-b133-49ca-8dd1-07f9e365a54a"
      },
      "source": [
        "categorical = df.select_dtypes(include='object').columns\n",
        "print(categorical)"
      ],
      "execution_count": 0,
      "outputs": [
        {
          "output_type": "stream",
          "text": [
            "Index(['Month', 'VisitorType'], dtype='object')\n"
          ],
          "name": "stdout"
        }
      ]
    },
    {
      "cell_type": "code",
      "metadata": {
        "id": "kMKVo4MB6Qoh",
        "colab_type": "code",
        "colab": {},
        "outputId": "0643f67f-9bb5-41bb-c1cd-81aa909bdfb0"
      },
      "source": [
        "# Hot encode all categorical columns\n",
        "for i in categorical:\n",
        "  new_cols = pd.get_dummies(df[i], prefix=i)\n",
        "  df = df.drop(i, axis=1)\n",
        "  df = df.join(new_cols)\n",
        "  \n",
        "df.head()"
      ],
      "execution_count": 0,
      "outputs": [
        {
          "output_type": "execute_result",
          "data": {
            "text/html": [
              "<div>\n",
              "<style scoped>\n",
              "    .dataframe tbody tr th:only-of-type {\n",
              "        vertical-align: middle;\n",
              "    }\n",
              "\n",
              "    .dataframe tbody tr th {\n",
              "        vertical-align: top;\n",
              "    }\n",
              "\n",
              "    .dataframe thead th {\n",
              "        text-align: right;\n",
              "    }\n",
              "</style>\n",
              "<table border=\"1\" class=\"dataframe\">\n",
              "  <thead>\n",
              "    <tr style=\"text-align: right;\">\n",
              "      <th></th>\n",
              "      <th>ID</th>\n",
              "      <th>Administrative</th>\n",
              "      <th>Administrative_Duration</th>\n",
              "      <th>Informational</th>\n",
              "      <th>Informational_Duration</th>\n",
              "      <th>ProductRelated</th>\n",
              "      <th>ProductRelated_Duration</th>\n",
              "      <th>BounceRates</th>\n",
              "      <th>ExitRates</th>\n",
              "      <th>PageValues</th>\n",
              "      <th>SpecialDay</th>\n",
              "      <th>OperatingSystems</th>\n",
              "      <th>Browser</th>\n",
              "      <th>Region</th>\n",
              "      <th>TrafficType</th>\n",
              "      <th>Weekend</th>\n",
              "      <th>Revenue</th>\n",
              "      <th>Month_Aug</th>\n",
              "      <th>Month_Dec</th>\n",
              "      <th>Month_Feb</th>\n",
              "      <th>Month_Jul</th>\n",
              "      <th>Month_June</th>\n",
              "      <th>Month_Mar</th>\n",
              "      <th>Month_May</th>\n",
              "      <th>Month_Nov</th>\n",
              "      <th>Month_Oct</th>\n",
              "      <th>Month_Sep</th>\n",
              "      <th>VisitorType_New_Visitor</th>\n",
              "      <th>VisitorType_Other</th>\n",
              "      <th>VisitorType_Returning_Visitor</th>\n",
              "    </tr>\n",
              "  </thead>\n",
              "  <tbody>\n",
              "    <tr>\n",
              "      <th>0</th>\n",
              "      <td>1</td>\n",
              "      <td>1</td>\n",
              "      <td>85.0</td>\n",
              "      <td>0</td>\n",
              "      <td>0.0</td>\n",
              "      <td>14</td>\n",
              "      <td>306.500000</td>\n",
              "      <td>0.000000</td>\n",
              "      <td>0.004444</td>\n",
              "      <td>0.0</td>\n",
              "      <td>0.0</td>\n",
              "      <td>2</td>\n",
              "      <td>2</td>\n",
              "      <td>3</td>\n",
              "      <td>2</td>\n",
              "      <td>0</td>\n",
              "      <td>False</td>\n",
              "      <td>0</td>\n",
              "      <td>0</td>\n",
              "      <td>0</td>\n",
              "      <td>0</td>\n",
              "      <td>0</td>\n",
              "      <td>1</td>\n",
              "      <td>0</td>\n",
              "      <td>0</td>\n",
              "      <td>0</td>\n",
              "      <td>0</td>\n",
              "      <td>0</td>\n",
              "      <td>0</td>\n",
              "      <td>1</td>\n",
              "    </tr>\n",
              "    <tr>\n",
              "      <th>1</th>\n",
              "      <td>2</td>\n",
              "      <td>0</td>\n",
              "      <td>0.0</td>\n",
              "      <td>0</td>\n",
              "      <td>0.0</td>\n",
              "      <td>68</td>\n",
              "      <td>3357.340476</td>\n",
              "      <td>0.018137</td>\n",
              "      <td>0.028272</td>\n",
              "      <td>0.0</td>\n",
              "      <td>1.0</td>\n",
              "      <td>3</td>\n",
              "      <td>2</td>\n",
              "      <td>6</td>\n",
              "      <td>2</td>\n",
              "      <td>1</td>\n",
              "      <td>False</td>\n",
              "      <td>0</td>\n",
              "      <td>0</td>\n",
              "      <td>0</td>\n",
              "      <td>0</td>\n",
              "      <td>0</td>\n",
              "      <td>0</td>\n",
              "      <td>1</td>\n",
              "      <td>0</td>\n",
              "      <td>0</td>\n",
              "      <td>0</td>\n",
              "      <td>0</td>\n",
              "      <td>0</td>\n",
              "      <td>1</td>\n",
              "    </tr>\n",
              "    <tr>\n",
              "      <th>2</th>\n",
              "      <td>3</td>\n",
              "      <td>0</td>\n",
              "      <td>0.0</td>\n",
              "      <td>0</td>\n",
              "      <td>0.0</td>\n",
              "      <td>6</td>\n",
              "      <td>56.500000</td>\n",
              "      <td>0.066667</td>\n",
              "      <td>0.116667</td>\n",
              "      <td>0.0</td>\n",
              "      <td>0.0</td>\n",
              "      <td>2</td>\n",
              "      <td>6</td>\n",
              "      <td>1</td>\n",
              "      <td>3</td>\n",
              "      <td>1</td>\n",
              "      <td>False</td>\n",
              "      <td>0</td>\n",
              "      <td>0</td>\n",
              "      <td>0</td>\n",
              "      <td>0</td>\n",
              "      <td>0</td>\n",
              "      <td>0</td>\n",
              "      <td>1</td>\n",
              "      <td>0</td>\n",
              "      <td>0</td>\n",
              "      <td>0</td>\n",
              "      <td>0</td>\n",
              "      <td>0</td>\n",
              "      <td>1</td>\n",
              "    </tr>\n",
              "    <tr>\n",
              "      <th>3</th>\n",
              "      <td>4</td>\n",
              "      <td>0</td>\n",
              "      <td>0.0</td>\n",
              "      <td>0</td>\n",
              "      <td>0.0</td>\n",
              "      <td>28</td>\n",
              "      <td>2524.000000</td>\n",
              "      <td>0.008929</td>\n",
              "      <td>0.051786</td>\n",
              "      <td>0.0</td>\n",
              "      <td>0.0</td>\n",
              "      <td>2</td>\n",
              "      <td>2</td>\n",
              "      <td>1</td>\n",
              "      <td>3</td>\n",
              "      <td>1</td>\n",
              "      <td>False</td>\n",
              "      <td>0</td>\n",
              "      <td>0</td>\n",
              "      <td>0</td>\n",
              "      <td>0</td>\n",
              "      <td>0</td>\n",
              "      <td>0</td>\n",
              "      <td>1</td>\n",
              "      <td>0</td>\n",
              "      <td>0</td>\n",
              "      <td>0</td>\n",
              "      <td>0</td>\n",
              "      <td>0</td>\n",
              "      <td>1</td>\n",
              "    </tr>\n",
              "    <tr>\n",
              "      <th>4</th>\n",
              "      <td>5</td>\n",
              "      <td>0</td>\n",
              "      <td>0.0</td>\n",
              "      <td>0</td>\n",
              "      <td>0.0</td>\n",
              "      <td>1</td>\n",
              "      <td>0.000000</td>\n",
              "      <td>0.200000</td>\n",
              "      <td>0.200000</td>\n",
              "      <td>0.0</td>\n",
              "      <td>0.0</td>\n",
              "      <td>2</td>\n",
              "      <td>2</td>\n",
              "      <td>6</td>\n",
              "      <td>2</td>\n",
              "      <td>0</td>\n",
              "      <td>False</td>\n",
              "      <td>0</td>\n",
              "      <td>0</td>\n",
              "      <td>0</td>\n",
              "      <td>0</td>\n",
              "      <td>0</td>\n",
              "      <td>0</td>\n",
              "      <td>0</td>\n",
              "      <td>1</td>\n",
              "      <td>0</td>\n",
              "      <td>0</td>\n",
              "      <td>0</td>\n",
              "      <td>0</td>\n",
              "      <td>1</td>\n",
              "    </tr>\n",
              "  </tbody>\n",
              "</table>\n",
              "</div>"
            ],
            "text/plain": [
              "   ID              ...                VisitorType_Returning_Visitor\n",
              "0   1              ...                                            1\n",
              "1   2              ...                                            1\n",
              "2   3              ...                                            1\n",
              "3   4              ...                                            1\n",
              "4   5              ...                                            1\n",
              "\n",
              "[5 rows x 30 columns]"
            ]
          },
          "metadata": {
            "tags": []
          },
          "execution_count": 6
        }
      ]
    },
    {
      "cell_type": "code",
      "metadata": {
        "id": "QUpsCPo86Qok",
        "colab_type": "code",
        "colab": {},
        "outputId": "e9a6d4f6-7729-483d-fbf3-5af6d4a5bc20"
      },
      "source": [
        "from sklearn.model_selection import train_test_split\n",
        "from sklearn import preprocessing\n",
        "from sklearn.decomposition import PCA\n",
        "\n",
        "\n",
        "min_max_scaler = preprocessing.MinMaxScaler()\n",
        "\n",
        "X = min_max_scaler.fit_transform(df.drop(['Revenue','ID','OperatingSystems','Browser','TrafficType'], axis=1))\n",
        "\n",
        "#pca = PCA(n_components=5)\n",
        "\n",
        "#Z = pca.fit_transform(X)\n",
        "\n",
        "y = df['Revenue'].values\n",
        "\n",
        "X_train, X_test, y_train, y_test = train_test_split(X, y, test_size=0.1, random_state=1)\n",
        "X_train, X_val, y_train, y_val = train_test_split(X_train, y_train, test_size=0.1, random_state=1)\n",
        "\n",
        "X_train.shape, y_train.shape, X_val.shape, y_val.shape, X_test.shape, y_test.shape"
      ],
      "execution_count": 0,
      "outputs": [
        {
          "output_type": "stream",
          "text": [
            "/opt/conda/lib/python3.6/site-packages/sklearn/preprocessing/data.py:334: DataConversionWarning: Data with input dtype uint8, int64, float64 were all converted to float64 by MinMaxScaler.\n",
            "  return self.partial_fit(X, y)\n"
          ],
          "name": "stderr"
        },
        {
          "output_type": "execute_result",
          "data": {
            "text/plain": [
              "((8488, 25), (8488,), (944, 25), (944,), (1048, 25), (1048,))"
            ]
          },
          "metadata": {
            "tags": []
          },
          "execution_count": 7
        }
      ]
    },
    {
      "cell_type": "code",
      "metadata": {
        "id": "BzzAxkkf6Qoq",
        "colab_type": "code",
        "colab": {},
        "outputId": "47351adf-29bd-4ac7-86a4-e33a9cc0181f"
      },
      "source": [
        "from tensorflow.keras.models import Sequential\n",
        "from tensorflow.keras.layers import Dense, BatchNormalization, Dropout\n",
        "from tensorflow.train import RMSPropOptimizer\n",
        "from tensorflow import keras\n",
        "import tensorflow as tf\n",
        "from tensorflow.keras.callbacks import EarlyStopping\n",
        "from tensorflow.train import AdamOptimizer\n",
        "from keras.layers.advanced_activations import LeakyReLU, PReLU\n",
        "from keras.regularizers import l1\n",
        "from keras.regularizers import l2\n",
        "\n",
        "rmsPropOpt = keras.optimizers.RMSprop(lr=0.001, rho=0.9, epsilon=None, decay=0.001)\n",
        "nadamOpt = keras.optimizers.Nadam(lr=0.0005, beta_1=0.9, beta_2=0.999, epsilon=None, schedule_decay=0.004)\n",
        "dropout_perc = 0.25\n",
        "\n",
        "nb_features = 25\n",
        "nb_output = 2\n",
        "\n",
        "model = Sequential()\n",
        "model.add(Dense(10,input_shape=(nb_features,), activity_regularizer=l1(0.001), activation='relu'))\n",
        "model.add(Dense(50, activity_regularizer=l1(0.001),activation='relu'))\n",
        "model.add(Dropout(dropout_perc))\n",
        "model.add(Dense(150, activity_regularizer=l1(0.001), activation='relu'))\n",
        "model.add(Dropout(dropout_perc))\n",
        "model.add(Dense(200, activity_regularizer=l1(0.001), activation='relu'))\n",
        "model.add(Dropout(dropout_perc))\n",
        "model.add(Dense(250, activity_regularizer=l1(0.001), activation='relu'))\n",
        "model.add(Dropout(dropout_perc))\n",
        "model.add(Dense(200, activity_regularizer=l1(0.001), activation='relu'))\n",
        "model.add(Dropout(dropout_perc))\n",
        "model.add(Dense(150, activity_regularizer=l1(0.001), activation='relu'))\n",
        "model.add(Dropout(dropout_perc))\n",
        "model.add(Dense(50, activity_regularizer=l1(0.001), activation='relu'))\n",
        "model.add(Dropout(dropout_perc))\n",
        "model.add(Dense(150, activity_regularizer=l1(0.001), activation='relu'))\n",
        "model.add(Dropout(dropout_perc))\n",
        "model.add(Dense(200, activity_regularizer=l1(0.001), activation='relu'))\n",
        "model.add(Dropout(dropout_perc))\n",
        "model.add(Dense(250, activity_regularizer=l1(0.001), activation='relu'))\n",
        "model.add(Dropout(dropout_perc))\n",
        "model.add(Dense(150, activity_regularizer=l1(0.001), activation='relu'))\n",
        "model.add(Dropout(dropout_perc))\n",
        "model.add(Dense(50, activity_regularizer=l1(0.001), activation='relu'))\n",
        "model.add(Dropout(dropout_perc))\n",
        "model.add(Dense(nb_output,activation='softmax'))"
      ],
      "execution_count": 0,
      "outputs": [
        {
          "output_type": "stream",
          "text": [
            "WARNING:tensorflow:From /opt/conda/lib/python3.6/site-packages/tensorflow/python/ops/resource_variable_ops.py:435: colocate_with (from tensorflow.python.framework.ops) is deprecated and will be removed in a future version.\n",
            "Instructions for updating:\n",
            "Colocations handled automatically by placer.\n",
            "WARNING:tensorflow:From /opt/conda/lib/python3.6/site-packages/tensorflow/python/keras/layers/core.py:143: calling dropout (from tensorflow.python.ops.nn_ops) with keep_prob is deprecated and will be removed in a future version.\n",
            "Instructions for updating:\n",
            "Please use `rate` instead of `keep_prob`. Rate should be set to `rate = 1 - keep_prob`.\n"
          ],
          "name": "stdout"
        },
        {
          "output_type": "stream",
          "text": [
            "Using TensorFlow backend.\n"
          ],
          "name": "stderr"
        }
      ]
    },
    {
      "cell_type": "code",
      "metadata": {
        "id": "Hsfev5J66Qou",
        "colab_type": "code",
        "colab": {},
        "outputId": "2156dba4-377a-46a0-e944-9af8f9edaa94"
      },
      "source": [
        "model.compile(loss='sparse_categorical_crossentropy',metrics=['accuracy'], optimizer=AdamOptimizer(0.0005))\n",
        "es = EarlyStopping(monitor='val_loss', verbose=1, patience=10)\n",
        "\n",
        "h = model.fit(X_train,y_train,epochs=100,validation_data=(X_val, y_val),batch_size=10, callbacks=[es])"
      ],
      "execution_count": 0,
      "outputs": [
        {
          "output_type": "stream",
          "text": [
            "Train on 8488 samples, validate on 944 samples\n",
            "Epoch 1/100\n",
            "8488/8488 [==============================] - 7s 867us/sample - loss: 0.4602 - acc: 0.8434 - val_loss: 0.4242 - val_acc: 0.8422\n",
            "Epoch 2/100\n",
            "8488/8488 [==============================] - 6s 676us/sample - loss: 0.4321 - acc: 0.8450 - val_loss: 0.4137 - val_acc: 0.8422\n",
            "Epoch 3/100\n",
            "8488/8488 [==============================] - 6s 672us/sample - loss: 0.4193 - acc: 0.8450 - val_loss: 0.4042 - val_acc: 0.8422\n",
            "Epoch 4/100\n",
            "8488/8488 [==============================] - 6s 666us/sample - loss: 0.4091 - acc: 0.8450 - val_loss: 0.3919 - val_acc: 0.8422\n",
            "Epoch 5/100\n",
            "8488/8488 [==============================] - 6s 666us/sample - loss: 0.3990 - acc: 0.8450 - val_loss: 0.4107 - val_acc: 0.8422\n",
            "Epoch 6/100\n",
            "8488/8488 [==============================] - 6s 668us/sample - loss: 0.3806 - acc: 0.8463 - val_loss: 0.3786 - val_acc: 0.8464\n",
            "Epoch 7/100\n",
            "8488/8488 [==============================] - 6s 666us/sample - loss: 0.3589 - acc: 0.8559 - val_loss: 0.3552 - val_acc: 0.8591\n",
            "Epoch 8/100\n",
            "8488/8488 [==============================] - 6s 675us/sample - loss: 0.3385 - acc: 0.8697 - val_loss: 0.3424 - val_acc: 0.8708\n",
            "Epoch 9/100\n",
            "8488/8488 [==============================] - 6s 666us/sample - loss: 0.3292 - acc: 0.8764 - val_loss: 0.3265 - val_acc: 0.8739\n",
            "Epoch 10/100\n",
            "8488/8488 [==============================] - 6s 679us/sample - loss: 0.3228 - acc: 0.8814 - val_loss: 0.3242 - val_acc: 0.8824\n",
            "Epoch 11/100\n",
            "8488/8488 [==============================] - 6s 673us/sample - loss: 0.3146 - acc: 0.8824 - val_loss: 0.3560 - val_acc: 0.8792\n",
            "Epoch 12/100\n",
            "8488/8488 [==============================] - 6s 671us/sample - loss: 0.3140 - acc: 0.8842 - val_loss: 0.3278 - val_acc: 0.8824\n",
            "Epoch 13/100\n",
            "8488/8488 [==============================] - 6s 667us/sample - loss: 0.3081 - acc: 0.8868 - val_loss: 0.3153 - val_acc: 0.8824\n",
            "Epoch 14/100\n",
            "8488/8488 [==============================] - 6s 675us/sample - loss: 0.3070 - acc: 0.8870 - val_loss: 0.3082 - val_acc: 0.8792\n",
            "Epoch 15/100\n",
            "8488/8488 [==============================] - 6s 676us/sample - loss: 0.3005 - acc: 0.8881 - val_loss: 0.3019 - val_acc: 0.8888\n",
            "Epoch 16/100\n",
            "8488/8488 [==============================] - 6s 674us/sample - loss: 0.2964 - acc: 0.8867 - val_loss: 0.3027 - val_acc: 0.8814\n",
            "Epoch 17/100\n",
            "8488/8488 [==============================] - 6s 669us/sample - loss: 0.2981 - acc: 0.8880 - val_loss: 0.2946 - val_acc: 0.8792\n",
            "Epoch 18/100\n",
            "8488/8488 [==============================] - 6s 674us/sample - loss: 0.2944 - acc: 0.8869 - val_loss: 0.3019 - val_acc: 0.8888\n",
            "Epoch 19/100\n",
            "8488/8488 [==============================] - 6s 669us/sample - loss: 0.2978 - acc: 0.8858 - val_loss: 0.2873 - val_acc: 0.8888\n",
            "Epoch 20/100\n",
            "8488/8488 [==============================] - 6s 672us/sample - loss: 0.2916 - acc: 0.8926 - val_loss: 0.2973 - val_acc: 0.8782\n",
            "Epoch 21/100\n",
            "8488/8488 [==============================] - 6s 676us/sample - loss: 0.2903 - acc: 0.8902 - val_loss: 0.3016 - val_acc: 0.8835\n",
            "Epoch 22/100\n",
            "8488/8488 [==============================] - 6s 667us/sample - loss: 0.2906 - acc: 0.8881 - val_loss: 0.3012 - val_acc: 0.8824\n",
            "Epoch 23/100\n",
            "8488/8488 [==============================] - 6s 668us/sample - loss: 0.2932 - acc: 0.8870 - val_loss: 0.2954 - val_acc: 0.8888\n",
            "Epoch 24/100\n",
            "8488/8488 [==============================] - 6s 673us/sample - loss: 0.2846 - acc: 0.8904 - val_loss: 0.3042 - val_acc: 0.8824\n",
            "Epoch 25/100\n",
            "8488/8488 [==============================] - 6s 671us/sample - loss: 0.2934 - acc: 0.8878 - val_loss: 0.2996 - val_acc: 0.8930\n",
            "Epoch 26/100\n",
            "8488/8488 [==============================] - 6s 673us/sample - loss: 0.2962 - acc: 0.8923 - val_loss: 0.2961 - val_acc: 0.8930\n",
            "Epoch 27/100\n",
            "8488/8488 [==============================] - 6s 672us/sample - loss: 0.2900 - acc: 0.8894 - val_loss: 0.2850 - val_acc: 0.8898\n",
            "Epoch 28/100\n",
            "8488/8488 [==============================] - 6s 663us/sample - loss: 0.2848 - acc: 0.8933 - val_loss: 0.3034 - val_acc: 0.8898\n",
            "Epoch 29/100\n",
            "8488/8488 [==============================] - 6s 677us/sample - loss: 0.2846 - acc: 0.8929 - val_loss: 0.3091 - val_acc: 0.8951\n",
            "Epoch 30/100\n",
            "8488/8488 [==============================] - 6s 677us/sample - loss: 0.2859 - acc: 0.8904 - val_loss: 0.2898 - val_acc: 0.8877\n",
            "Epoch 31/100\n",
            "8488/8488 [==============================] - 6s 672us/sample - loss: 0.2830 - acc: 0.8926 - val_loss: 0.2957 - val_acc: 0.8898\n",
            "Epoch 32/100\n",
            "8488/8488 [==============================] - 6s 671us/sample - loss: 0.2818 - acc: 0.8942 - val_loss: 0.2914 - val_acc: 0.8909\n",
            "Epoch 33/100\n",
            "8488/8488 [==============================] - 6s 668us/sample - loss: 0.2831 - acc: 0.8877 - val_loss: 0.2969 - val_acc: 0.8877\n",
            "Epoch 34/100\n",
            "8488/8488 [==============================] - 6s 669us/sample - loss: 0.2831 - acc: 0.8946 - val_loss: 0.2843 - val_acc: 0.8951\n",
            "Epoch 35/100\n",
            "8488/8488 [==============================] - 6s 670us/sample - loss: 0.2817 - acc: 0.8902 - val_loss: 0.3120 - val_acc: 0.8739\n",
            "Epoch 36/100\n",
            "8488/8488 [==============================] - 6s 682us/sample - loss: 0.2853 - acc: 0.8884 - val_loss: 0.2875 - val_acc: 0.8972\n",
            "Epoch 37/100\n",
            "8488/8488 [==============================] - 6s 670us/sample - loss: 0.2825 - acc: 0.8889 - val_loss: 0.2869 - val_acc: 0.8845\n",
            "Epoch 38/100\n",
            "8488/8488 [==============================] - 6s 665us/sample - loss: 0.2819 - acc: 0.8888 - val_loss: 0.2894 - val_acc: 0.8951\n",
            "Epoch 39/100\n",
            "8488/8488 [==============================] - 6s 672us/sample - loss: 0.2829 - acc: 0.8948 - val_loss: 0.2891 - val_acc: 0.8909\n",
            "Epoch 40/100\n",
            "8488/8488 [==============================] - 6s 671us/sample - loss: 0.2809 - acc: 0.8917 - val_loss: 0.3015 - val_acc: 0.8581\n",
            "Epoch 41/100\n",
            "8488/8488 [==============================] - 6s 675us/sample - loss: 0.2793 - acc: 0.8915 - val_loss: 0.2872 - val_acc: 0.8983\n",
            "Epoch 42/100\n",
            "8488/8488 [==============================] - 6s 673us/sample - loss: 0.2801 - acc: 0.8922 - val_loss: 0.3003 - val_acc: 0.8771\n",
            "Epoch 43/100\n",
            "8488/8488 [==============================] - 6s 676us/sample - loss: 0.2745 - acc: 0.8943 - val_loss: 0.2852 - val_acc: 0.9025\n",
            "Epoch 44/100\n",
            "8488/8488 [==============================] - 6s 678us/sample - loss: 0.2770 - acc: 0.8935 - val_loss: 0.3025 - val_acc: 0.8686\n",
            "Epoch 00044: early stopping\n"
          ],
          "name": "stdout"
        }
      ]
    },
    {
      "cell_type": "code",
      "metadata": {
        "id": "ZrEbHJk06Qoz",
        "colab_type": "code",
        "colab": {},
        "outputId": "09d432ec-7e19-46dc-d14b-3020b6fc633d"
      },
      "source": [
        "import matplotlib.pyplot as plt\n",
        "plt.plot(h.history['val_loss'])\n",
        "plt.plot(h.history['val_acc'])"
      ],
      "execution_count": 0,
      "outputs": [
        {
          "output_type": "execute_result",
          "data": {
            "text/plain": [
              "[<matplotlib.lines.Line2D at 0x7fa4fe921208>]"
            ]
          },
          "metadata": {
            "tags": []
          },
          "execution_count": 10
        },
        {
          "output_type": "display_data",
          "data": {
            "image/png": "[encoded data removed]",
            "text/plain": [
              "<Figure size 432x288 with 1 Axes>"
            ]
          },
          "metadata": {
            "tags": []
          }
        }
      ]
    },
    {
      "cell_type": "code",
      "metadata": {
        "id": "HjSxVv6B6Qo5",
        "colab_type": "code",
        "colab": {},
        "outputId": "329d5443-6720-4667-bf36-9c8465d88acc"
      },
      "source": [
        " score = model.evaluate(X_test, y_test, verbose=1)\n",
        "print(score[1])"
      ],
      "execution_count": 0,
      "outputs": [
        {
          "output_type": "stream",
          "text": [
            "1048/1048 [==============================] - 0s 115us/sample - loss: 0.2983 - acc: 0.8712\n",
            "0.8711832\n"
          ],
          "name": "stdout"
        }
      ]
    },
    {
      "cell_type": "code",
      "metadata": {
        "id": "Y_sy6Dax6Qo8",
        "colab_type": "code",
        "colab": {},
        "outputId": "a4acdcfc-0462-49ee-85f2-7ebf172e890a"
      },
      "source": [
        "from sklearn.metrics import f1_score\n",
        "\n",
        "y_pred = model.predict_classes(X_test)\n",
        "\n",
        "print('sklearn Macro-F1-Score:', f1_score(y_test, y_pred, average='macro'))"
      ],
      "execution_count": 0,
      "outputs": [
        {
          "output_type": "stream",
          "text": [
            "sklearn Macro-F1-Score: 0.6381798513130941\n"
          ],
          "name": "stdout"
        }
      ]
    },
    {
      "cell_type": "code",
      "metadata": {
        "id": "xPpY1tkr6Qo_",
        "colab_type": "code",
        "colab": {},
        "outputId": "39404755-ceb1-45f6-be61-8cea19482b81"
      },
      "source": [
        "df_test = pd.read_csv('../input/test.csv', sep=\",\")\n",
        "df_test.head()"
      ],
      "execution_count": 0,
      "outputs": [
        {
          "output_type": "execute_result",
          "data": {
            "text/html": [
              "<div>\n",
              "<style scoped>\n",
              "    .dataframe tbody tr th:only-of-type {\n",
              "        vertical-align: middle;\n",
              "    }\n",
              "\n",
              "    .dataframe tbody tr th {\n",
              "        vertical-align: top;\n",
              "    }\n",
              "\n",
              "    .dataframe thead th {\n",
              "        text-align: right;\n",
              "    }\n",
              "</style>\n",
              "<table border=\"1\" class=\"dataframe\">\n",
              "  <thead>\n",
              "    <tr style=\"text-align: right;\">\n",
              "      <th></th>\n",
              "      <th>ID</th>\n",
              "      <th>Administrative</th>\n",
              "      <th>Administrative_Duration</th>\n",
              "      <th>Informational</th>\n",
              "      <th>Informational_Duration</th>\n",
              "      <th>ProductRelated</th>\n",
              "      <th>ProductRelated_Duration</th>\n",
              "      <th>BounceRates</th>\n",
              "      <th>ExitRates</th>\n",
              "      <th>PageValues</th>\n",
              "      <th>SpecialDay</th>\n",
              "      <th>Month</th>\n",
              "      <th>OperatingSystems</th>\n",
              "      <th>Browser</th>\n",
              "      <th>Region</th>\n",
              "      <th>TrafficType</th>\n",
              "      <th>VisitorType</th>\n",
              "      <th>Weekend</th>\n",
              "    </tr>\n",
              "  </thead>\n",
              "  <tbody>\n",
              "    <tr>\n",
              "      <th>0</th>\n",
              "      <td>10481</td>\n",
              "      <td>1</td>\n",
              "      <td>13.000000</td>\n",
              "      <td>4</td>\n",
              "      <td>37.5</td>\n",
              "      <td>32</td>\n",
              "      <td>675.666667</td>\n",
              "      <td>0.005714</td>\n",
              "      <td>0.028571</td>\n",
              "      <td>0.000000</td>\n",
              "      <td>0.0</td>\n",
              "      <td>Dec</td>\n",
              "      <td>2</td>\n",
              "      <td>4</td>\n",
              "      <td>1</td>\n",
              "      <td>10</td>\n",
              "      <td>Returning_Visitor</td>\n",
              "      <td>False</td>\n",
              "    </tr>\n",
              "    <tr>\n",
              "      <th>1</th>\n",
              "      <td>10482</td>\n",
              "      <td>7</td>\n",
              "      <td>150.375000</td>\n",
              "      <td>0</td>\n",
              "      <td>0.0</td>\n",
              "      <td>7</td>\n",
              "      <td>219.583333</td>\n",
              "      <td>0.000000</td>\n",
              "      <td>0.018182</td>\n",
              "      <td>0.000000</td>\n",
              "      <td>0.0</td>\n",
              "      <td>Dec</td>\n",
              "      <td>1</td>\n",
              "      <td>1</td>\n",
              "      <td>1</td>\n",
              "      <td>2</td>\n",
              "      <td>Returning_Visitor</td>\n",
              "      <td>True</td>\n",
              "    </tr>\n",
              "    <tr>\n",
              "      <th>2</th>\n",
              "      <td>10483</td>\n",
              "      <td>0</td>\n",
              "      <td>0.000000</td>\n",
              "      <td>0</td>\n",
              "      <td>0.0</td>\n",
              "      <td>51</td>\n",
              "      <td>742.960317</td>\n",
              "      <td>0.003922</td>\n",
              "      <td>0.012121</td>\n",
              "      <td>0.000000</td>\n",
              "      <td>0.0</td>\n",
              "      <td>Nov</td>\n",
              "      <td>1</td>\n",
              "      <td>1</td>\n",
              "      <td>3</td>\n",
              "      <td>2</td>\n",
              "      <td>Returning_Visitor</td>\n",
              "      <td>True</td>\n",
              "    </tr>\n",
              "    <tr>\n",
              "      <th>3</th>\n",
              "      <td>10484</td>\n",
              "      <td>0</td>\n",
              "      <td>0.000000</td>\n",
              "      <td>0</td>\n",
              "      <td>0.0</td>\n",
              "      <td>6</td>\n",
              "      <td>90.166667</td>\n",
              "      <td>0.033333</td>\n",
              "      <td>0.066667</td>\n",
              "      <td>0.000000</td>\n",
              "      <td>0.0</td>\n",
              "      <td>Nov</td>\n",
              "      <td>3</td>\n",
              "      <td>2</td>\n",
              "      <td>4</td>\n",
              "      <td>1</td>\n",
              "      <td>Returning_Visitor</td>\n",
              "      <td>True</td>\n",
              "    </tr>\n",
              "    <tr>\n",
              "      <th>4</th>\n",
              "      <td>10485</td>\n",
              "      <td>1</td>\n",
              "      <td>11.888889</td>\n",
              "      <td>0</td>\n",
              "      <td>0.0</td>\n",
              "      <td>111</td>\n",
              "      <td>3510.879903</td>\n",
              "      <td>0.000098</td>\n",
              "      <td>0.009438</td>\n",
              "      <td>12.016565</td>\n",
              "      <td>0.0</td>\n",
              "      <td>Mar</td>\n",
              "      <td>3</td>\n",
              "      <td>2</td>\n",
              "      <td>5</td>\n",
              "      <td>2</td>\n",
              "      <td>Returning_Visitor</td>\n",
              "      <td>False</td>\n",
              "    </tr>\n",
              "  </tbody>\n",
              "</table>\n",
              "</div>"
            ],
            "text/plain": [
              "      ID  Administrative   ...           VisitorType  Weekend\n",
              "0  10481               1   ...     Returning_Visitor    False\n",
              "1  10482               7   ...     Returning_Visitor     True\n",
              "2  10483               0   ...     Returning_Visitor     True\n",
              "3  10484               0   ...     Returning_Visitor     True\n",
              "4  10485               1   ...     Returning_Visitor    False\n",
              "\n",
              "[5 rows x 18 columns]"
            ]
          },
          "metadata": {
            "tags": []
          },
          "execution_count": 13
        }
      ]
    },
    {
      "cell_type": "code",
      "metadata": {
        "id": "XLRsE9sk6QpB",
        "colab_type": "code",
        "colab": {},
        "outputId": "9e94ca04-f363-43ee-852d-60c978ba4964"
      },
      "source": [
        "df_test['Weekend'] = (df_test['Weekend'] == True).astype(int)\n",
        "categorical = df_test.select_dtypes(include='object').columns\n",
        "\n",
        "# Hot encode all categorical columns\n",
        "for i in categorical:\n",
        "  new_cols = pd.get_dummies(df_test[i], prefix=i)\n",
        "  df_test = df_test.drop(i, axis=1)\n",
        "  df_test = df_test.join(new_cols)\n",
        "  \n",
        "df_test.head()"
      ],
      "execution_count": 0,
      "outputs": [
        {
          "output_type": "execute_result",
          "data": {
            "text/html": [
              "<div>\n",
              "<style scoped>\n",
              "    .dataframe tbody tr th:only-of-type {\n",
              "        vertical-align: middle;\n",
              "    }\n",
              "\n",
              "    .dataframe tbody tr th {\n",
              "        vertical-align: top;\n",
              "    }\n",
              "\n",
              "    .dataframe thead th {\n",
              "        text-align: right;\n",
              "    }\n",
              "</style>\n",
              "<table border=\"1\" class=\"dataframe\">\n",
              "  <thead>\n",
              "    <tr style=\"text-align: right;\">\n",
              "      <th></th>\n",
              "      <th>ID</th>\n",
              "      <th>Administrative</th>\n",
              "      <th>Administrative_Duration</th>\n",
              "      <th>Informational</th>\n",
              "      <th>Informational_Duration</th>\n",
              "      <th>ProductRelated</th>\n",
              "      <th>ProductRelated_Duration</th>\n",
              "      <th>BounceRates</th>\n",
              "      <th>ExitRates</th>\n",
              "      <th>PageValues</th>\n",
              "      <th>SpecialDay</th>\n",
              "      <th>OperatingSystems</th>\n",
              "      <th>Browser</th>\n",
              "      <th>Region</th>\n",
              "      <th>TrafficType</th>\n",
              "      <th>Weekend</th>\n",
              "      <th>Month_Aug</th>\n",
              "      <th>Month_Dec</th>\n",
              "      <th>Month_Feb</th>\n",
              "      <th>Month_Jul</th>\n",
              "      <th>Month_June</th>\n",
              "      <th>Month_Mar</th>\n",
              "      <th>Month_May</th>\n",
              "      <th>Month_Nov</th>\n",
              "      <th>Month_Oct</th>\n",
              "      <th>Month_Sep</th>\n",
              "      <th>VisitorType_New_Visitor</th>\n",
              "      <th>VisitorType_Other</th>\n",
              "      <th>VisitorType_Returning_Visitor</th>\n",
              "    </tr>\n",
              "  </thead>\n",
              "  <tbody>\n",
              "    <tr>\n",
              "      <th>0</th>\n",
              "      <td>10481</td>\n",
              "      <td>1</td>\n",
              "      <td>13.000000</td>\n",
              "      <td>4</td>\n",
              "      <td>37.5</td>\n",
              "      <td>32</td>\n",
              "      <td>675.666667</td>\n",
              "      <td>0.005714</td>\n",
              "      <td>0.028571</td>\n",
              "      <td>0.000000</td>\n",
              "      <td>0.0</td>\n",
              "      <td>2</td>\n",
              "      <td>4</td>\n",
              "      <td>1</td>\n",
              "      <td>10</td>\n",
              "      <td>0</td>\n",
              "      <td>0</td>\n",
              "      <td>1</td>\n",
              "      <td>0</td>\n",
              "      <td>0</td>\n",
              "      <td>0</td>\n",
              "      <td>0</td>\n",
              "      <td>0</td>\n",
              "      <td>0</td>\n",
              "      <td>0</td>\n",
              "      <td>0</td>\n",
              "      <td>0</td>\n",
              "      <td>0</td>\n",
              "      <td>1</td>\n",
              "    </tr>\n",
              "    <tr>\n",
              "      <th>1</th>\n",
              "      <td>10482</td>\n",
              "      <td>7</td>\n",
              "      <td>150.375000</td>\n",
              "      <td>0</td>\n",
              "      <td>0.0</td>\n",
              "      <td>7</td>\n",
              "      <td>219.583333</td>\n",
              "      <td>0.000000</td>\n",
              "      <td>0.018182</td>\n",
              "      <td>0.000000</td>\n",
              "      <td>0.0</td>\n",
              "      <td>1</td>\n",
              "      <td>1</td>\n",
              "      <td>1</td>\n",
              "      <td>2</td>\n",
              "      <td>1</td>\n",
              "      <td>0</td>\n",
              "      <td>1</td>\n",
              "      <td>0</td>\n",
              "      <td>0</td>\n",
              "      <td>0</td>\n",
              "      <td>0</td>\n",
              "      <td>0</td>\n",
              "      <td>0</td>\n",
              "      <td>0</td>\n",
              "      <td>0</td>\n",
              "      <td>0</td>\n",
              "      <td>0</td>\n",
              "      <td>1</td>\n",
              "    </tr>\n",
              "    <tr>\n",
              "      <th>2</th>\n",
              "      <td>10483</td>\n",
              "      <td>0</td>\n",
              "      <td>0.000000</td>\n",
              "      <td>0</td>\n",
              "      <td>0.0</td>\n",
              "      <td>51</td>\n",
              "      <td>742.960317</td>\n",
              "      <td>0.003922</td>\n",
              "      <td>0.012121</td>\n",
              "      <td>0.000000</td>\n",
              "      <td>0.0</td>\n",
              "      <td>1</td>\n",
              "      <td>1</td>\n",
              "      <td>3</td>\n",
              "      <td>2</td>\n",
              "      <td>1</td>\n",
              "      <td>0</td>\n",
              "      <td>0</td>\n",
              "      <td>0</td>\n",
              "      <td>0</td>\n",
              "      <td>0</td>\n",
              "      <td>0</td>\n",
              "      <td>0</td>\n",
              "      <td>1</td>\n",
              "      <td>0</td>\n",
              "      <td>0</td>\n",
              "      <td>0</td>\n",
              "      <td>0</td>\n",
              "      <td>1</td>\n",
              "    </tr>\n",
              "    <tr>\n",
              "      <th>3</th>\n",
              "      <td>10484</td>\n",
              "      <td>0</td>\n",
              "      <td>0.000000</td>\n",
              "      <td>0</td>\n",
              "      <td>0.0</td>\n",
              "      <td>6</td>\n",
              "      <td>90.166667</td>\n",
              "      <td>0.033333</td>\n",
              "      <td>0.066667</td>\n",
              "      <td>0.000000</td>\n",
              "      <td>0.0</td>\n",
              "      <td>3</td>\n",
              "      <td>2</td>\n",
              "      <td>4</td>\n",
              "      <td>1</td>\n",
              "      <td>1</td>\n",
              "      <td>0</td>\n",
              "      <td>0</td>\n",
              "      <td>0</td>\n",
              "      <td>0</td>\n",
              "      <td>0</td>\n",
              "      <td>0</td>\n",
              "      <td>0</td>\n",
              "      <td>1</td>\n",
              "      <td>0</td>\n",
              "      <td>0</td>\n",
              "      <td>0</td>\n",
              "      <td>0</td>\n",
              "      <td>1</td>\n",
              "    </tr>\n",
              "    <tr>\n",
              "      <th>4</th>\n",
              "      <td>10485</td>\n",
              "      <td>1</td>\n",
              "      <td>11.888889</td>\n",
              "      <td>0</td>\n",
              "      <td>0.0</td>\n",
              "      <td>111</td>\n",
              "      <td>3510.879903</td>\n",
              "      <td>0.000098</td>\n",
              "      <td>0.009438</td>\n",
              "      <td>12.016565</td>\n",
              "      <td>0.0</td>\n",
              "      <td>3</td>\n",
              "      <td>2</td>\n",
              "      <td>5</td>\n",
              "      <td>2</td>\n",
              "      <td>0</td>\n",
              "      <td>0</td>\n",
              "      <td>0</td>\n",
              "      <td>0</td>\n",
              "      <td>0</td>\n",
              "      <td>0</td>\n",
              "      <td>1</td>\n",
              "      <td>0</td>\n",
              "      <td>0</td>\n",
              "      <td>0</td>\n",
              "      <td>0</td>\n",
              "      <td>0</td>\n",
              "      <td>0</td>\n",
              "      <td>1</td>\n",
              "    </tr>\n",
              "  </tbody>\n",
              "</table>\n",
              "</div>"
            ],
            "text/plain": [
              "      ID              ...                VisitorType_Returning_Visitor\n",
              "0  10481              ...                                            1\n",
              "1  10482              ...                                            1\n",
              "2  10483              ...                                            1\n",
              "3  10484              ...                                            1\n",
              "4  10485              ...                                            1\n",
              "\n",
              "[5 rows x 29 columns]"
            ]
          },
          "metadata": {
            "tags": []
          },
          "execution_count": 14
        }
      ]
    },
    {
      "cell_type": "code",
      "metadata": {
        "id": "WEtPgT5L6QpE",
        "colab_type": "code",
        "colab": {},
        "outputId": "ca45ed64-83c2-4583-b814-f467281bd3c8"
      },
      "source": [
        "X_prediction = min_max_scaler.fit_transform(df_test.drop(['ID','OperatingSystems','Browser','TrafficType'], axis=1))\n",
        "#Z_prediction = pca.fit_transform(X_prediction)"
      ],
      "execution_count": 0,
      "outputs": [
        {
          "output_type": "stream",
          "text": [
            "/opt/conda/lib/python3.6/site-packages/sklearn/preprocessing/data.py:334: DataConversionWarning: Data with input dtype uint8, int64, float64 were all converted to float64 by MinMaxScaler.\n",
            "  return self.partial_fit(X, y)\n"
          ],
          "name": "stderr"
        }
      ]
    },
    {
      "cell_type": "code",
      "metadata": {
        "id": "Ee9nZnag6QpG",
        "colab_type": "code",
        "colab": {}
      },
      "source": [
        "y_prediction = model.predict_classes(X_prediction)"
      ],
      "execution_count": 0,
      "outputs": []
    },
    {
      "cell_type": "code",
      "metadata": {
        "id": "9MUXNpDh6QpJ",
        "colab_type": "code",
        "colab": {}
      },
      "source": [
        "y_prediction = y_prediction.astype(bool)\n",
        "ids = df_test['ID']"
      ],
      "execution_count": 0,
      "outputs": []
    },
    {
      "cell_type": "code",
      "metadata": {
        "id": "hK5kSnt16QpL",
        "colab_type": "code",
        "colab": {},
        "outputId": "fd5ce26a-9921-4223-e994-3c5b6ae43dd7"
      },
      "source": [
        "\n",
        "\n",
        "#predictions = pd.DataFrame(y_prediction, columns = ['Revenue'])\n",
        "#predictions['Revenue'] = (predictions['Revenue'] == True).astype(bool)\n",
        "#ids = pd.DataFrame(df['ID'], columns = ['ID'])\n",
        "#ids['ID'] = (ids['ID']).astype(int)\n",
        "submission = pd.DataFrame({'ID':ids,'Revenue':y_prediction})\n",
        "\n",
        "submission.head()"
      ],
      "execution_count": 0,
      "outputs": [
        {
          "output_type": "execute_result",
          "data": {
            "text/html": [
              "<div>\n",
              "<style scoped>\n",
              "    .dataframe tbody tr th:only-of-type {\n",
              "        vertical-align: middle;\n",
              "    }\n",
              "\n",
              "    .dataframe tbody tr th {\n",
              "        vertical-align: top;\n",
              "    }\n",
              "\n",
              "    .dataframe thead th {\n",
              "        text-align: right;\n",
              "    }\n",
              "</style>\n",
              "<table border=\"1\" class=\"dataframe\">\n",
              "  <thead>\n",
              "    <tr style=\"text-align: right;\">\n",
              "      <th></th>\n",
              "      <th>ID</th>\n",
              "      <th>Revenue</th>\n",
              "    </tr>\n",
              "  </thead>\n",
              "  <tbody>\n",
              "    <tr>\n",
              "      <th>0</th>\n",
              "      <td>10481</td>\n",
              "      <td>False</td>\n",
              "    </tr>\n",
              "    <tr>\n",
              "      <th>1</th>\n",
              "      <td>10482</td>\n",
              "      <td>False</td>\n",
              "    </tr>\n",
              "    <tr>\n",
              "      <th>2</th>\n",
              "      <td>10483</td>\n",
              "      <td>False</td>\n",
              "    </tr>\n",
              "    <tr>\n",
              "      <th>3</th>\n",
              "      <td>10484</td>\n",
              "      <td>False</td>\n",
              "    </tr>\n",
              "    <tr>\n",
              "      <th>4</th>\n",
              "      <td>10485</td>\n",
              "      <td>False</td>\n",
              "    </tr>\n",
              "  </tbody>\n",
              "</table>\n",
              "</div>"
            ],
            "text/plain": [
              "      ID  Revenue\n",
              "0  10481    False\n",
              "1  10482    False\n",
              "2  10483    False\n",
              "3  10484    False\n",
              "4  10485    False"
            ]
          },
          "metadata": {
            "tags": []
          },
          "execution_count": 18
        }
      ]
    },
    {
      "cell_type": "code",
      "metadata": {
        "id": "dicOH-iw6QpN",
        "colab_type": "code",
        "colab": {}
      },
      "source": [
        "submission.to_csv('submission_RNN_20190610-2314.csv', index = False)"
      ],
      "execution_count": 0,
      "outputs": []
    },
    {
      "cell_type": "code",
      "metadata": {
        "id": "TlVt_eaR6QpQ",
        "colab_type": "code",
        "colab": {}
      },
      "source": [
        "#kaggle competitions submit -c capstone-summer-2019 -f submission.csv -m \"First commission Marjolaine and Michel\""
      ],
      "execution_count": 0,
      "outputs": []
    },
    {
      "cell_type": "markdown",
      "metadata": {
        "id": "7DzEWdcv6QpV",
        "colab_type": "text"
      },
      "source": [
        "****Trying XGBoost model****"
      ]
    },
    {
      "cell_type": "code",
      "metadata": {
        "id": "1uNStkNv6QpW",
        "colab_type": "code",
        "colab": {},
        "outputId": "a2573aee-a49c-4ba8-cdc9-a5eba88e1a92"
      },
      "source": [
        "from xgboost import XGBClassifier\n",
        "\n",
        "xGBoostmodel = XGBClassifier(n_estimators=1000, learning_rate=0.0005,n_jobs=4)\n",
        "xGBoostmodel.fit(X_train, y_train, \n",
        "             early_stopping_rounds=5, \n",
        "             eval_set=[(X_val, y_val)],\n",
        "             verbose=True)"
      ],
      "execution_count": 0,
      "outputs": [
        {
          "output_type": "stream",
          "text": [
            "[0]\tvalidation_0-error:0.112288\n",
            "Will train until validation_0-error hasn't improved in 5 rounds.\n",
            "[1]\tvalidation_0-error:0.112288\n",
            "[2]\tvalidation_0-error:0.112288\n",
            "[3]\tvalidation_0-error:0.112288\n",
            "[4]\tvalidation_0-error:0.112288\n",
            "[5]\tvalidation_0-error:0.112288\n",
            "Stopping. Best iteration:\n",
            "[0]\tvalidation_0-error:0.112288\n",
            "\n"
          ],
          "name": "stdout"
        },
        {
          "output_type": "execute_result",
          "data": {
            "text/plain": [
              "XGBClassifier(base_score=0.5, booster='gbtree', colsample_bylevel=1,\n",
              "       colsample_bytree=1, gamma=0, learning_rate=0.0005, max_delta_step=0,\n",
              "       max_depth=3, min_child_weight=1, missing=None, n_estimators=1000,\n",
              "       n_jobs=4, nthread=None, objective='binary:logistic', random_state=0,\n",
              "       reg_alpha=0, reg_lambda=1, scale_pos_weight=1, seed=None,\n",
              "       silent=True, subsample=1)"
            ]
          },
          "metadata": {
            "tags": []
          },
          "execution_count": 21
        }
      ]
    },
    {
      "cell_type": "code",
      "metadata": {
        "id": "f2CLv3IH6Qpb",
        "colab_type": "code",
        "colab": {},
        "outputId": "f78472a9-a720-4095-d800-2a1449ecc93a"
      },
      "source": [
        "from sklearn.metrics import f1_score\n",
        "\n",
        "y_pred = xGBoostmodel.predict(X_test)\n",
        "\n",
        "print('sklearn Macro-F1-Score XGBoost:', f1_score(y_test, y_pred, average='macro'))"
      ],
      "execution_count": 0,
      "outputs": [
        {
          "output_type": "stream",
          "text": [
            "sklearn Macro-F1-Score XGBoost: 0.8105497784213067\n"
          ],
          "name": "stdout"
        }
      ]
    },
    {
      "cell_type": "code",
      "metadata": {
        "id": "pgSpRTVb6Qph",
        "colab_type": "code",
        "colab": {}
      },
      "source": [
        "y_prediction = xGBoostmodel.predict(X_prediction)"
      ],
      "execution_count": 0,
      "outputs": []
    },
    {
      "cell_type": "code",
      "metadata": {
        "id": "DTL11kEy6Qpl",
        "colab_type": "code",
        "colab": {},
        "outputId": "2f44828d-5bcc-4e89-a9de-667cf608477c"
      },
      "source": [
        "submission = pd.DataFrame({'ID':ids,'Revenue':y_prediction})\n",
        "y_prediction = y_prediction.astype(bool)\n",
        "ids = df_test['ID']\n",
        "submission.head()\n"
      ],
      "execution_count": 0,
      "outputs": [
        {
          "output_type": "execute_result",
          "data": {
            "text/html": [
              "<div>\n",
              "<style scoped>\n",
              "    .dataframe tbody tr th:only-of-type {\n",
              "        vertical-align: middle;\n",
              "    }\n",
              "\n",
              "    .dataframe tbody tr th {\n",
              "        vertical-align: top;\n",
              "    }\n",
              "\n",
              "    .dataframe thead th {\n",
              "        text-align: right;\n",
              "    }\n",
              "</style>\n",
              "<table border=\"1\" class=\"dataframe\">\n",
              "  <thead>\n",
              "    <tr style=\"text-align: right;\">\n",
              "      <th></th>\n",
              "      <th>ID</th>\n",
              "      <th>Revenue</th>\n",
              "    </tr>\n",
              "  </thead>\n",
              "  <tbody>\n",
              "    <tr>\n",
              "      <th>0</th>\n",
              "      <td>10481</td>\n",
              "      <td>False</td>\n",
              "    </tr>\n",
              "    <tr>\n",
              "      <th>1</th>\n",
              "      <td>10482</td>\n",
              "      <td>False</td>\n",
              "    </tr>\n",
              "    <tr>\n",
              "      <th>2</th>\n",
              "      <td>10483</td>\n",
              "      <td>False</td>\n",
              "    </tr>\n",
              "    <tr>\n",
              "      <th>3</th>\n",
              "      <td>10484</td>\n",
              "      <td>False</td>\n",
              "    </tr>\n",
              "    <tr>\n",
              "      <th>4</th>\n",
              "      <td>10485</td>\n",
              "      <td>True</td>\n",
              "    </tr>\n",
              "  </tbody>\n",
              "</table>\n",
              "</div>"
            ],
            "text/plain": [
              "      ID  Revenue\n",
              "0  10481    False\n",
              "1  10482    False\n",
              "2  10483    False\n",
              "3  10484    False\n",
              "4  10485     True"
            ]
          },
          "metadata": {
            "tags": []
          },
          "execution_count": 24
        }
      ]
    },
    {
      "cell_type": "code",
      "metadata": {
        "id": "Yd5WJznC6Qpn",
        "colab_type": "code",
        "colab": {}
      },
      "source": [
        "submission.to_csv('submission_XGBoost_20190610-2314.csv', index = False)"
      ],
      "execution_count": 0,
      "outputs": []
    },
    {
      "cell_type": "markdown",
      "metadata": {
        "id": "JiqQrbKR6Qps",
        "colab_type": "text"
      },
      "source": [
        "****Trying other classifier methods to get better results****"
      ]
    },
    {
      "cell_type": "code",
      "metadata": {
        "id": "UVFc4tOl6Qpt",
        "colab_type": "code",
        "colab": {}
      },
      "source": [
        "#transform data\n",
        "def transform_data (df, train):\n",
        "#vistitor in dumnies\n",
        "    df = pd.get_dummies(df,columns=['VisitorType'])\n",
        "\n",
        "    #weekend in 0 1\n",
        "    df['Weekend'] = np.where(df.Weekend == True, 1, 0)\n",
        "\n",
        "    #Revenu in 0 1\n",
        "    if train == True:\n",
        "        df['Revenue'] = np.where(df.Revenue == True, 1, 0)\n",
        "    df = df.drop(['Month', \"ID\"], axis=1)\n",
        "    return  df"
      ],
      "execution_count": 0,
      "outputs": []
    },
    {
      "cell_type": "code",
      "metadata": {
        "id": "zha8NXkC6Qpw",
        "colab_type": "code",
        "colab": {}
      },
      "source": [
        "# import dataset\n",
        "\n",
        "path='../input/'\n",
        "filename_train = path+'train.csv'\n",
        "filename_test = path+'test.csv'\n",
        "df_train = pd.read_csv(filename_train, sep=\",\")\n",
        "df_test = pd.read_csv(filename_test, sep=\",\")\n",
        "\n",
        "df_train = transform_data(df_train, True)\n",
        "df_test = transform_data(df_test, False)"
      ],
      "execution_count": 0,
      "outputs": []
    },
    {
      "cell_type": "code",
      "metadata": {
        "id": "2JUwYdDv6Qpz",
        "colab_type": "code",
        "colab": {}
      },
      "source": [
        "#transform df in numpy\n",
        "train_np = df_train.values\n",
        "from sklearn.model_selection import train_test_split\n",
        "train_numpy, test_numpy = train_test_split(train_np, test_size = 0.2, random_state = 1)"
      ],
      "execution_count": 0,
      "outputs": []
    },
    {
      "cell_type": "code",
      "metadata": {
        "id": "7-SwN0SZ6Qp2",
        "colab_type": "code",
        "colab": {}
      },
      "source": [
        "X_train = train_numpy[:, :-1]\n",
        "y_train = train_numpy[:,-1]\n",
        "X_test = test_numpy[:, :-1]\n",
        "y_test = test_numpy[:,-1]"
      ],
      "execution_count": 0,
      "outputs": []
    },
    {
      "cell_type": "code",
      "metadata": {
        "id": "BpWdObXH6Qp5",
        "colab_type": "code",
        "colab": {}
      },
      "source": [
        "import numpy as np\n",
        "import pandas as pd\n",
        "import matplotlib.pyplot as plt\n",
        "from sklearn.metrics import accuracy_score\n",
        "# Linear Regression\n",
        "from sklearn.linear_model import LogisticRegression\n",
        "from sklearn.model_selection import KFold\n",
        "# Random Forest Classifier\n",
        "from sklearn.ensemble import RandomForestClassifier\n",
        "# Neural Network\n",
        "from sklearn.neural_network import MLPClassifier\n",
        "#SVC\n",
        "from sklearn.svm import SVC\n",
        "#GridSearch\n",
        "from sklearn.model_selection import GridSearchCV\n",
        "%matplotlib inline"
      ],
      "execution_count": 0,
      "outputs": []
    },
    {
      "cell_type": "code",
      "metadata": {
        "id": "zV5NFkHd6Qp9",
        "colab_type": "code",
        "colab": {}
      },
      "source": [
        "def k_fold_validation (model, data_set, model_print, data, X, y, *args, **kwargs):\n",
        "    k = 5\n",
        "    kf = KFold(n_splits=k, shuffle=True)\n",
        "    acc = np.zeros(k)\n",
        "    i = 0\n",
        "    for train_i, test_i in kf.split(data_set):\n",
        "        if model_print == \"Random Forest\":\n",
        "            md = RandomForestClassifier(n_estimators=100, max_depth=kwargs['best_depth_param'], \\\n",
        "                                        random_state=1)\n",
        "        elif model_print == 'Neural Network':\n",
        "            md = MLPClassifier(hidden_layer_sizes=kwargs['layer_size'], activation=kwargs['activation'])\n",
        "        elif model_print == 'SVC':\n",
        "            md = SVC(C=kwargs['best_C'])\n",
        "        else:\n",
        "            md = model\n",
        "        md = md.fit(X[train_i], y[train_i])\n",
        "        acc[i] = accuracy_score((md.predict(X[test_i])).astype(int), y[test_i])\n",
        "        i+=1\n",
        "    print(\"Accurancy for\", model_print, \"model, on\", data, \"data is\",np.mean(acc))\n",
        "    return np.mean(acc), model"
      ],
      "execution_count": 0,
      "outputs": []
    },
    {
      "cell_type": "code",
      "metadata": {
        "id": "qBMTaA7m6Qp_",
        "colab_type": "code",
        "colab": {}
      },
      "source": [
        "def find_best_depth(X_train, y_train, X_test, y_test):\n",
        "    acc = []\n",
        "    acc_train = []\n",
        "    depth = np.arange(1, 50)\n",
        "    # Calculate accuracy score on the test set for different depths of the trees\n",
        "    for i in depth:\n",
        "        # Fit the Regression Tree\n",
        "        dt = RandomForestClassifier(n_estimators=100, max_depth=i, random_state=1)\n",
        "        dt.fit(X_train,y_train)\n",
        "        # Predict on the test set\n",
        "        y_pred = dt.predict(X_test)\n",
        "        # Compute the accuracy\n",
        "        score = accuracy_score(y_test, y_pred)  \n",
        "        acc.append(score)\n",
        "        acc_train.append(accuracy_score(y_train, dt.predict(X_train)))\n",
        "   \n",
        "    return np.argmax(acc)+1"
      ],
      "execution_count": 0,
      "outputs": []
    },
    {
      "cell_type": "code",
      "metadata": {
        "id": "Ni9sMb7w6QqB",
        "colab_type": "code",
        "colab": {}
      },
      "source": [
        "def gridSearch_C(X, y):\n",
        "\n",
        "    # Select the optimal C parameter by cross-validation\n",
        "    tuned_parameters = [{'C': [0.001, 0.01, 0.1, 1, 5, 10, 100]}]\n",
        "    clf = GridSearchCV(SVC, tuned_parameters, cv=10, scoring='accuracy')\n",
        "    print(clf)\n",
        "    clf.fit(X, y)\n",
        "    return clf.best_params_['C']"
      ],
      "execution_count": 0,
      "outputs": []
    },
    {
      "cell_type": "code",
      "metadata": {
        "id": "T-FSK9KC6QqD",
        "colab_type": "code",
        "colab": {}
      },
      "source": [
        "# Set PCA data\n",
        "from sklearn.decomposition import PCA\n",
        "pca = PCA(n_components=2)\n",
        "\n",
        "pca.fit(train_numpy[:, :-1])\n",
        "Z_train = pca.transform(train_numpy[:, :-1])\n",
        "Z_test = pca.transform(train_numpy[:, :-1])\n",
        "\n",
        "# X & y - Data train\n",
        "X_train_Z = Z_train\n",
        "y_train_z = train_numpy[:,-1]\n",
        "\n",
        "# X & y - Data train\n",
        "X_test_Z = Z_test\n",
        "y_test_z = test_numpy[:,-1]"
      ],
      "execution_count": 0,
      "outputs": []
    },
    {
      "cell_type": "code",
      "metadata": {
        "id": "Pfxot5Kv6QqF",
        "colab_type": "code",
        "colab": {},
        "outputId": "e0eca124-ac8d-4002-a8a8-97a445fefb60"
      },
      "source": [
        "# Create dict result for train and test \n",
        "rslt_train ={}\n",
        "rslt_test = {}\n",
        "\n",
        "# Linear regression\n",
        "rslt_train['LR'], model_train_log_reg = k_fold_validation(LogisticRegression(), train_numpy, 'logistic regression', 'train', X_train, y_train)\n",
        "rslt_test['LR'], model_test_log_reg = k_fold_validation(LogisticRegression(), test_numpy, 'logistic regression', 'test', X_test, y_test)\n",
        "\n",
        "# Linear regression PCA\n",
        "rslt_train['LR PCA'], model_train_lin_reg = k_fold_validation(LogisticRegression(), train_numpy, 'logistic regression', 'train PCA', X_train_Z, y_train_z)\n",
        "rslt_test['LR PCA'], model_test_lin_reg  = k_fold_validation(LogisticRegression(), test_numpy, 'logistic regression', 'test PCA', X_test_Z, y_test_z)\n",
        "\n",
        "\n",
        "# Random Forest Classifier\n",
        "best_depth = find_best_depth(X_train, y_train, X_test, y_test)\n",
        "rslt_train['RF'], model_train_rf = k_fold_validation(RandomForestClassifier(), train_numpy, 'Random Forest', 'train', X_train, y_train, best_depth_param = best_depth)\n",
        "rslt_test['RF'], model_test_rf = k_fold_validation(RandomForestClassifier(), test_numpy, 'Random Forest', 'test', X_test, y_test, best_depth_param = best_depth)\n",
        "\n",
        "# Random Forest Classifier PCA\n",
        "best_depth = find_best_depth(X_train, y_train, X_test, y_test)\n",
        "rslt_train['RF PCA'], model_train_rf_pca = k_fold_validation(RandomForestClassifier(), train_numpy, 'Random Forest', 'train PCA', \n",
        "                                                            X_train_Z, y_train_z,best_depth_param = best_depth)\n",
        "rslt_test['RF PCA'], model_test_rf_pca = k_fold_validation(RandomForestClassifier(), test_numpy, 'Random Forest', 'test PCA', \n",
        "                                                            X_train_Z, y_train_z,best_depth_param = best_depth)\n",
        "\n",
        "# Neural Network\n",
        "rslt_train['NN'], model_train_nn = k_fold_validation(MLPClassifier(), train_numpy, 'Neural Network', 'train', X_train, y_train, \n",
        "                                                                        layer_size =(10,15),  activation ='identity')\n",
        "rslt_test['NN'], model_test_nn = k_fold_validation(MLPClassifier(), test_numpy, 'Neural Network', 'test', X_test, y_test, \n",
        "                                                                        layer_size= (10,15), activation ='identity')\n",
        "# Neural Network PCA\n",
        "rslt_train['NN PCA'], model_train_nn_pca = k_fold_validation(MLPClassifier(), train_numpy, 'Neural Network', 'train PCA', X_train_Z, \n",
        "                                                            y_train_z, layer_size =(10,15), activation ='identity')\n",
        "rslt_test['NN PCA'], model_test_nn_pca = k_fold_validation(MLPClassifier(), test_numpy, 'Neural Network', 'test PCA', X_test_Z, \n",
        "                                                            y_test_z, layer_size= (10,15), activation ='identity')\n",
        "#PROBLEME GRIDSEARCH AVEC SVM\n",
        "''' \n",
        "# SVM\n",
        "best_param = gridSearch_C(X_train, y_train)\n",
        "rslt_train['SVC'] = [k_fold_validation(SVC(), train_numpy, 'SVC', 'train', X_train, y_train, \n",
        "                                                                              best_param_C = best_param)]\n",
        "rslt_test['SVC'] = [k_fold_validation(SVC(), test_numpy, 'SVC', 'test', X_test, y_test, best_param_C = best_param)]\n",
        "\n",
        "# SVC PCA\n",
        "best_param = gridSearch_C(X_train, y_train)\n",
        "rslt_train['SVC PCA'] = [k_fold_validation(SVC(), ziptrain_data, 'SVC', 'train PCA', X_train_Z, y_train_z, \n",
        "                                                                                 best_param_C = best_param)]\n",
        "rslt_test['SVC PCA'] = [k_fold_validation(SVC(), ziptest_data, 'SVC', 'test PCA', X_test_Z, y_test_z, \n",
        "                                                                                 best_param_C = best_param)]\n",
        "'''\n",
        "df_rslt_train = pd.DataFrame([rslt_train])\n",
        "df_rslt_test = pd.DataFrame([rslt_test])"
      ],
      "execution_count": 0,
      "outputs": [
        {
          "output_type": "stream",
          "text": [
            "/opt/conda/lib/python3.6/site-packages/sklearn/linear_model/logistic.py:433: FutureWarning: Default solver will be changed to 'lbfgs' in 0.22. Specify a solver to silence this warning.\n",
            "  FutureWarning)\n",
            "/opt/conda/lib/python3.6/site-packages/sklearn/linear_model/logistic.py:433: FutureWarning: Default solver will be changed to 'lbfgs' in 0.22. Specify a solver to silence this warning.\n",
            "  FutureWarning)\n",
            "/opt/conda/lib/python3.6/site-packages/sklearn/linear_model/logistic.py:433: FutureWarning: Default solver will be changed to 'lbfgs' in 0.22. Specify a solver to silence this warning.\n",
            "  FutureWarning)\n",
            "/opt/conda/lib/python3.6/site-packages/sklearn/linear_model/logistic.py:433: FutureWarning: Default solver will be changed to 'lbfgs' in 0.22. Specify a solver to silence this warning.\n",
            "  FutureWarning)\n",
            "/opt/conda/lib/python3.6/site-packages/sklearn/linear_model/logistic.py:433: FutureWarning: Default solver will be changed to 'lbfgs' in 0.22. Specify a solver to silence this warning.\n",
            "  FutureWarning)\n",
            "/opt/conda/lib/python3.6/site-packages/sklearn/linear_model/logistic.py:433: FutureWarning: Default solver will be changed to 'lbfgs' in 0.22. Specify a solver to silence this warning.\n",
            "  FutureWarning)\n",
            "/opt/conda/lib/python3.6/site-packages/sklearn/linear_model/logistic.py:433: FutureWarning: Default solver will be changed to 'lbfgs' in 0.22. Specify a solver to silence this warning.\n",
            "  FutureWarning)\n"
          ],
          "name": "stderr"
        },
        {
          "output_type": "stream",
          "text": [
            "Accurancy for logistic regression model, on train data is 0.9989266547406082\n",
            "Accurancy for logistic regression model, on test data is 0.9957097397431527\n"
          ],
          "name": "stdout"
        },
        {
          "output_type": "stream",
          "text": [
            "/opt/conda/lib/python3.6/site-packages/sklearn/linear_model/logistic.py:433: FutureWarning: Default solver will be changed to 'lbfgs' in 0.22. Specify a solver to silence this warning.\n",
            "  FutureWarning)\n",
            "/opt/conda/lib/python3.6/site-packages/sklearn/linear_model/logistic.py:433: FutureWarning: Default solver will be changed to 'lbfgs' in 0.22. Specify a solver to silence this warning.\n",
            "  FutureWarning)\n",
            "/opt/conda/lib/python3.6/site-packages/sklearn/linear_model/logistic.py:433: FutureWarning: Default solver will be changed to 'lbfgs' in 0.22. Specify a solver to silence this warning.\n",
            "  FutureWarning)\n",
            "/opt/conda/lib/python3.6/site-packages/sklearn/linear_model/logistic.py:433: FutureWarning: Default solver will be changed to 'lbfgs' in 0.22. Specify a solver to silence this warning.\n",
            "  FutureWarning)\n",
            "/opt/conda/lib/python3.6/site-packages/sklearn/linear_model/logistic.py:433: FutureWarning: Default solver will be changed to 'lbfgs' in 0.22. Specify a solver to silence this warning.\n",
            "  FutureWarning)\n",
            "/opt/conda/lib/python3.6/site-packages/sklearn/linear_model/logistic.py:433: FutureWarning: Default solver will be changed to 'lbfgs' in 0.22. Specify a solver to silence this warning.\n",
            "  FutureWarning)\n",
            "/opt/conda/lib/python3.6/site-packages/sklearn/linear_model/logistic.py:433: FutureWarning: Default solver will be changed to 'lbfgs' in 0.22. Specify a solver to silence this warning.\n",
            "  FutureWarning)\n",
            "/opt/conda/lib/python3.6/site-packages/sklearn/linear_model/logistic.py:433: FutureWarning: Default solver will be changed to 'lbfgs' in 0.22. Specify a solver to silence this warning.\n",
            "  FutureWarning)\n"
          ],
          "name": "stderr"
        },
        {
          "output_type": "stream",
          "text": [
            "Accurancy for logistic regression model, on train PCA data is 0.8541252349988543\n",
            "Accurancy for logistic regression model, on test PCA data is 0.8626002954881237\n"
          ],
          "name": "stdout"
        },
        {
          "output_type": "stream",
          "text": [
            "/opt/conda/lib/python3.6/site-packages/sklearn/linear_model/logistic.py:433: FutureWarning: Default solver will be changed to 'lbfgs' in 0.22. Specify a solver to silence this warning.\n",
            "  FutureWarning)\n",
            "/opt/conda/lib/python3.6/site-packages/sklearn/linear_model/logistic.py:433: FutureWarning: Default solver will be changed to 'lbfgs' in 0.22. Specify a solver to silence this warning.\n",
            "  FutureWarning)\n",
            "/opt/conda/lib/python3.6/site-packages/sklearn/linear_model/logistic.py:433: FutureWarning: Default solver will be changed to 'lbfgs' in 0.22. Specify a solver to silence this warning.\n",
            "  FutureWarning)\n",
            "/opt/conda/lib/python3.6/site-packages/sklearn/linear_model/logistic.py:433: FutureWarning: Default solver will be changed to 'lbfgs' in 0.22. Specify a solver to silence this warning.\n",
            "  FutureWarning)\n",
            "/opt/conda/lib/python3.6/site-packages/sklearn/linear_model/logistic.py:433: FutureWarning: Default solver will be changed to 'lbfgs' in 0.22. Specify a solver to silence this warning.\n",
            "  FutureWarning)\n"
          ],
          "name": "stderr"
        },
        {
          "output_type": "stream",
          "text": [
            "Accurancy for Random Forest model, on train data is 1.0\n",
            "Accurancy for Random Forest model, on test data is 0.9980906921241051\n",
            "Accurancy for Random Forest model, on train PCA data is 0.853411877386457\n",
            "Accurancy for Random Forest model, on test PCA data is 0.8578167973633368\n",
            "Accurancy for Neural Network model, on train data is 0.9700655933214073\n",
            "Accurancy for Neural Network model, on test data is 0.893617456529151\n",
            "Accurancy for Neural Network model, on train PCA data is 0.8532925456442134\n",
            "Accurancy for Neural Network model, on test PCA data is 0.8444482327537222\n"
          ],
          "name": "stdout"
        }
      ]
    },
    {
      "cell_type": "markdown",
      "metadata": {
        "id": "n_jMJNwG6QqH",
        "colab_type": "text"
      },
      "source": [
        "Plot accuracy result"
      ]
    },
    {
      "cell_type": "code",
      "metadata": {
        "id": "2JuGNHKc6QqI",
        "colab_type": "code",
        "colab": {}
      },
      "source": [
        "df_rslt_train =df_rslt_train.sort_values(by=0, ascending=True, axis=1)\n",
        "df_rslt_test =df_rslt_test.sort_values(by=0, ascending=True, axis=1)"
      ],
      "execution_count": 0,
      "outputs": []
    },
    {
      "cell_type": "markdown",
      "metadata": {
        "id": "Ng5jBAMG6QqL",
        "colab_type": "text"
      },
      "source": [
        "Train data"
      ]
    },
    {
      "cell_type": "code",
      "metadata": {
        "id": "dGuxd6Ya6QqM",
        "colab_type": "code",
        "colab": {},
        "outputId": "23b848a6-a7e9-4181-da88-692dbc2a8990"
      },
      "source": [
        "df_rslt_train.plot.bar();"
      ],
      "execution_count": 0,
      "outputs": [
        {
          "output_type": "display_data",
          "data": {
            "image/png": "[encoded data removed]",
            "text/plain": [
              "<Figure size 432x288 with 1 Axes>"
            ]
          },
          "metadata": {
            "tags": []
          }
        }
      ]
    },
    {
      "cell_type": "code",
      "metadata": {
        "id": "fwcBHnDb6QqP",
        "colab_type": "code",
        "colab": {},
        "outputId": "4642a64a-c6a8-44d3-bbb5-7b04892f42c7"
      },
      "source": [
        "df_rslt_test"
      ],
      "execution_count": 0,
      "outputs": [
        {
          "output_type": "execute_result",
          "data": {
            "text/html": [
              "<div>\n",
              "<style scoped>\n",
              "    .dataframe tbody tr th:only-of-type {\n",
              "        vertical-align: middle;\n",
              "    }\n",
              "\n",
              "    .dataframe tbody tr th {\n",
              "        vertical-align: top;\n",
              "    }\n",
              "\n",
              "    .dataframe thead th {\n",
              "        text-align: right;\n",
              "    }\n",
              "</style>\n",
              "<table border=\"1\" class=\"dataframe\">\n",
              "  <thead>\n",
              "    <tr style=\"text-align: right;\">\n",
              "      <th></th>\n",
              "      <th>NN PCA</th>\n",
              "      <th>RF PCA</th>\n",
              "      <th>LR PCA</th>\n",
              "      <th>NN</th>\n",
              "      <th>LR</th>\n",
              "      <th>RF</th>\n",
              "    </tr>\n",
              "  </thead>\n",
              "  <tbody>\n",
              "    <tr>\n",
              "      <th>0</th>\n",
              "      <td>0.844448</td>\n",
              "      <td>0.857817</td>\n",
              "      <td>0.8626</td>\n",
              "      <td>0.893617</td>\n",
              "      <td>0.99571</td>\n",
              "      <td>0.998091</td>\n",
              "    </tr>\n",
              "  </tbody>\n",
              "</table>\n",
              "</div>"
            ],
            "text/plain": [
              "     NN PCA    RF PCA  LR PCA        NN       LR        RF\n",
              "0  0.844448  0.857817  0.8626  0.893617  0.99571  0.998091"
            ]
          },
          "metadata": {
            "tags": []
          },
          "execution_count": 38
        }
      ]
    },
    {
      "cell_type": "markdown",
      "metadata": {
        "id": "wAR6WPLX6QqT",
        "colab_type": "text"
      },
      "source": [
        "Best performance is Random Forest"
      ]
    },
    {
      "cell_type": "code",
      "metadata": {
        "id": "V78ylfSv6QqU",
        "colab_type": "code",
        "colab": {},
        "outputId": "3a86af0a-0e0b-49e4-acb0-514ff18ac4a6"
      },
      "source": [
        "model_train_rf.fit(X_train,y_train)\n"
      ],
      "execution_count": 0,
      "outputs": [
        {
          "output_type": "stream",
          "text": [
            "/opt/conda/lib/python3.6/site-packages/sklearn/ensemble/forest.py:246: FutureWarning: The default value of n_estimators will change from 10 in version 0.20 to 100 in 0.22.\n",
            "  \"10 in version 0.20 to 100 in 0.22.\", FutureWarning)\n"
          ],
          "name": "stderr"
        },
        {
          "output_type": "execute_result",
          "data": {
            "text/plain": [
              "RandomForestClassifier(bootstrap=True, class_weight=None, criterion='gini',\n",
              "            max_depth=None, max_features='auto', max_leaf_nodes=None,\n",
              "            min_impurity_decrease=0.0, min_impurity_split=None,\n",
              "            min_samples_leaf=1, min_samples_split=2,\n",
              "            min_weight_fraction_leaf=0.0, n_estimators=10, n_jobs=None,\n",
              "            oob_score=False, random_state=None, verbose=0,\n",
              "            warm_start=False)"
            ]
          },
          "metadata": {
            "tags": []
          },
          "execution_count": 39
        }
      ]
    },
    {
      "cell_type": "code",
      "metadata": {
        "id": "RDSAYWj36QqW",
        "colab_type": "code",
        "colab": {}
      },
      "source": [
        "y_prediction = model_train_rf.predict(df_test)\n",
        "y_prediction = y_prediction.astype(bool)"
      ],
      "execution_count": 0,
      "outputs": []
    },
    {
      "cell_type": "code",
      "metadata": {
        "id": "DWoLb7sO6Qqd",
        "colab_type": "code",
        "colab": {},
        "outputId": "0968064e-9ef1-48e8-a50f-0513c7f130a6"
      },
      "source": [
        "submission = pd.DataFrame({'ID':ids,'Revenue':y_prediction})\n",
        "\n",
        "submission.head()\n",
        "\n"
      ],
      "execution_count": 0,
      "outputs": [
        {
          "output_type": "execute_result",
          "data": {
            "text/html": [
              "<div>\n",
              "<style scoped>\n",
              "    .dataframe tbody tr th:only-of-type {\n",
              "        vertical-align: middle;\n",
              "    }\n",
              "\n",
              "    .dataframe tbody tr th {\n",
              "        vertical-align: top;\n",
              "    }\n",
              "\n",
              "    .dataframe thead th {\n",
              "        text-align: right;\n",
              "    }\n",
              "</style>\n",
              "<table border=\"1\" class=\"dataframe\">\n",
              "  <thead>\n",
              "    <tr style=\"text-align: right;\">\n",
              "      <th></th>\n",
              "      <th>ID</th>\n",
              "      <th>Revenue</th>\n",
              "    </tr>\n",
              "  </thead>\n",
              "  <tbody>\n",
              "    <tr>\n",
              "      <th>0</th>\n",
              "      <td>10481</td>\n",
              "      <td>False</td>\n",
              "    </tr>\n",
              "    <tr>\n",
              "      <th>1</th>\n",
              "      <td>10482</td>\n",
              "      <td>False</td>\n",
              "    </tr>\n",
              "    <tr>\n",
              "      <th>2</th>\n",
              "      <td>10483</td>\n",
              "      <td>False</td>\n",
              "    </tr>\n",
              "    <tr>\n",
              "      <th>3</th>\n",
              "      <td>10484</td>\n",
              "      <td>False</td>\n",
              "    </tr>\n",
              "    <tr>\n",
              "      <th>4</th>\n",
              "      <td>10485</td>\n",
              "      <td>False</td>\n",
              "    </tr>\n",
              "  </tbody>\n",
              "</table>\n",
              "</div>"
            ],
            "text/plain": [
              "      ID  Revenue\n",
              "0  10481    False\n",
              "1  10482    False\n",
              "2  10483    False\n",
              "3  10484    False\n",
              "4  10485    False"
            ]
          },
          "metadata": {
            "tags": []
          },
          "execution_count": 41
        }
      ]
    },
    {
      "cell_type": "code",
      "metadata": {
        "id": "EFaxig5K6Qqf",
        "colab_type": "code",
        "colab": {}
      },
      "source": [
        "submission.to_csv('submission_RF_20190609-1150.csv', index = False)"
      ],
      "execution_count": 0,
      "outputs": []
    }
  ]
}